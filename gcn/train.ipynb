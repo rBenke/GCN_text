{
 "cells": [
  {
   "cell_type": "code",
   "execution_count": 1,
   "metadata": {},
   "outputs": [],
   "source": [
    "from __future__ import division\n",
    "from __future__ import print_function\n",
    "\n",
    "import tensorflow as tf\n",
    "from utils import *\n",
    "from models import GCN\n",
    "\n",
    "# Set random seed\n",
    "seed = 123\n",
    "np.random.seed(seed)\n",
    "tf.set_random_seed(seed)\n",
    "\n"
   ]
  },
  {
   "cell_type": "code",
   "execution_count": 2,
   "metadata": {},
   "outputs": [],
   "source": [
    "# get paths to available grahs metadata\n",
    "adj_mat, features_mat, train_labels_mat, test_labels_mat, val_labels_mat, train_mask_mat, test_mask_mat, val_mask_mat = load_data(\"txt_graph2216_21012020\", 80000)"
   ]
  },
  {
   "cell_type": "code",
   "execution_count": 3,
   "metadata": {},
   "outputs": [
    {
     "name": "stdout",
     "output_type": "stream",
     "text": [
      "(463317, 463317)\n",
      "(463317, 100)\n",
      "(463317, 5)\n",
      "(463317, 5)\n",
      "(463317, 5)\n",
      "(463317, 5)\n",
      "(463317, 5)\n",
      "(463317, 5)\n"
     ]
    }
   ],
   "source": [
    "print(adj_mat.shape)\n",
    "print(features_mat.shape)\n",
    "print(train_labels_mat.shape)\n",
    "print(test_labels_mat.shape)\n",
    "print(val_labels_mat.shape)\n",
    "print(train_mask_mat.shape)\n",
    "print(test_mask_mat.shape)\n",
    "print(val_mask_mat.shape)"
   ]
  },
  {
   "cell_type": "code",
   "execution_count": 10,
   "metadata": {},
   "outputs": [],
   "source": [
    "#delete all flags before declaration new one\n",
    "del_all_flags(tf.flags.FLAGS)\n",
    "\n",
    "# Settings\n",
    "flags = tf.app.flags\n",
    "FLAGS = tf.app.flags.FLAGS\n",
    "tf.app.flags.DEFINE_string('mode', '', 'kernel') # for line by line mode\n",
    "tf.app.flags.DEFINE_string('port', '', 'kernel') # for line by line mode\n",
    "tf.app.flags.DEFINE_string('f', '', 'kernel') # for jupyter notebook\n",
    "\n",
    "flags.DEFINE_float('learning_rate', 0.01, 'Initial learning rate.')\n",
    "flags.DEFINE_integer('epochs', 200, 'Number of epochs to train.')\n",
    "flags.DEFINE_integer('hidden1', 32, 'Number of units in hidden layer 1.') #16\n",
    "flags.DEFINE_float('dropout', 0.5, 'Dropout rate (1 - keep probability).') #0.5\n",
    "flags.DEFINE_float('weight_decay', 5e-4, 'Weight for L2 loss on embedding matrix.')\n",
    "flags.DEFINE_integer('early_stopping', 10, 'Tolerance for early stopping (# of epochs).')\n",
    "\n",
    "# Some preprocessing\n",
    "features = preprocess_features(features_mat)\n",
    "support = [preprocess_adj(adj_mat)]\n",
    "num_supports = 1\n",
    "model_func = GCN\n"
   ]
  },
  {
   "cell_type": "code",
   "execution_count": 11,
   "metadata": {},
   "outputs": [],
   "source": [
    "# Define placeholders\n",
    "placeholders = {\n",
    "    'support': [tf.sparse_placeholder(tf.float32) for _ in range(num_supports)],\n",
    "    'features': tf.sparse_placeholder(tf.float32, shape=tf.constant(features[2], dtype=tf.int64)),\n",
    "    'labels': tf.placeholder(tf.float32, shape=(None, train_labels_mat.shape[1])),\n",
    "    'labels_mask': tf.placeholder(tf.int32),\n",
    "    'dropout': tf.placeholder_with_default(0., shape=()),\n",
    "    'num_features_nonzero': tf.placeholder(tf.int32)  # helper variable for sparse dropout\n",
    "}\n",
    "\n",
    "# Create model\n",
    "model = model_func(placeholders, input_dim=features[2][1], logging=True)"
   ]
  },
  {
   "cell_type": "code",
   "execution_count": 12,
   "metadata": {},
   "outputs": [],
   "source": [
    "# Initialize session\n",
    "sess = tf.Session()\n",
    "# Init variables\n",
    "sess.run(tf.global_variables_initializer())"
   ]
  },
  {
   "cell_type": "code",
   "execution_count": null,
   "metadata": {},
   "outputs": [
    {
     "name": "stdout",
     "output_type": "stream",
     "text": [
      "Epoch: 0001 train_loss= 4.32870 train_acc= 0.17825 val_loss= 13.06805 val_acc= 0.36766 time= 11.53591\n",
      "Epoch: 0002 train_loss= 4.02245 train_acc= 0.17789 val_loss= 13.89180 val_acc= 0.39706 time= 10.83106\n",
      "Epoch: 0003 train_loss= 3.63020 train_acc= 0.18312 val_loss= 13.53844 val_acc= 0.39259 time= 10.80459\n",
      "Epoch: 0004 train_loss= 3.22804 train_acc= 0.19120 val_loss= 12.41184 val_acc= 0.37676 time= 10.84739\n",
      "Epoch: 0005 train_loss= 2.92034 train_acc= 0.19462 val_loss= 11.27649 val_acc= 0.31688 time= 11.12530\n",
      "Epoch: 0006 train_loss= 3.07298 train_acc= 0.20087 val_loss= 10.60520 val_acc= 0.29701 time= 10.92273\n",
      "Epoch: 0007 train_loss= 2.79790 train_acc= 0.20654 val_loss= 10.31294 val_acc= 0.29566 time= 10.97037\n",
      "Epoch: 0008 train_loss= 2.83820 train_acc= 0.20877 val_loss= 9.72185 val_acc= 0.28333 time= 10.87753\n",
      "Epoch: 0009 train_loss= 2.41827 train_acc= 0.21014 val_loss= 9.45780 val_acc= 0.28092 time= 11.40712\n",
      "Epoch: 0010 train_loss= 2.33026 train_acc= 0.21302 val_loss= 9.47966 val_acc= 0.27725 time= 13.68862\n",
      "Epoch: 0011 train_loss= 2.43974 train_acc= 0.21457 val_loss= 9.50714 val_acc= 0.27909 time= 11.47374\n",
      "Epoch: 0012 train_loss= 2.26902 train_acc= 0.21838 val_loss= 9.50206 val_acc= 0.29391 time= 16.15953\n",
      "Epoch: 0013 train_loss= 2.43460 train_acc= 0.21856 val_loss= 9.31079 val_acc= 0.28115 time= 14.97062\n",
      "Epoch: 0014 train_loss= 2.24490 train_acc= 0.21845 val_loss= 9.15500 val_acc= 0.23202 time= 13.75633\n",
      "Epoch: 0015 train_loss= 2.13681 train_acc= 0.21701 val_loss= 9.16341 val_acc= 0.18089 time= 13.10538\n",
      "Epoch: 0016 train_loss= 2.11780 train_acc= 0.21928 val_loss= 9.12586 val_acc= 0.14674 time= 12.60117\n",
      "Epoch: 0017 train_loss= 2.09726 train_acc= 0.21648 val_loss= 9.07528 val_acc= 0.13026 time= 12.76598\n",
      "Epoch: 0018 train_loss= 1.99067 train_acc= 0.21989 val_loss= 9.01114 val_acc= 0.12226 time= 13.84144\n",
      "Epoch: 0019 train_loss= 1.94657 train_acc= 0.21948 val_loss= 8.92062 val_acc= 0.12049 time= 12.62596\n",
      "Epoch: 0020 train_loss= 1.99671 train_acc= 0.22074 val_loss= 8.86481 val_acc= 0.12728 time= 12.70650\n",
      "Epoch: 0021 train_loss= 1.91159 train_acc= 0.22292 val_loss= 8.79456 val_acc= 0.14217 time= 12.62611\n",
      "Epoch: 0022 train_loss= 1.83263 train_acc= 0.22232 val_loss= 8.71310 val_acc= 0.16428 time= 12.61183\n",
      "Epoch: 0023 train_loss= 1.84968 train_acc= 0.22111 val_loss= 8.63887 val_acc= 0.19239 time= 12.58705\n",
      "Epoch: 0024 train_loss= 1.83416 train_acc= 0.22203 val_loss= 8.59186 val_acc= 0.22425 time= 12.57415\n",
      "Epoch: 0025 train_loss= 1.84844 train_acc= 0.22042 val_loss= 8.57836 val_acc= 0.25125 time= 12.69376\n",
      "Epoch: 0026 train_loss= 1.86426 train_acc= 0.22359 val_loss= 8.52840 val_acc= 0.26649 time= 12.67790\n",
      "Epoch: 0027 train_loss= 1.81060 train_acc= 0.22162 val_loss= 8.47148 val_acc= 0.28132 time= 12.58407\n",
      "Epoch: 0028 train_loss= 1.77857 train_acc= 0.22187 val_loss= 8.42786 val_acc= 0.27906 time= 12.51526\n",
      "Epoch: 0029 train_loss= 1.76954 train_acc= 0.22321 val_loss= 8.38641 val_acc= 0.27071 time= 12.57125\n",
      "Epoch: 0030 train_loss= 1.80137 train_acc= 0.22790 val_loss= 8.34627 val_acc= 0.25299 time= 12.70954\n",
      "Epoch: 0031 train_loss= 1.74838 train_acc= 0.23130 val_loss= 8.31665 val_acc= 0.23285 time= 12.62047\n",
      "Epoch: 0032 train_loss= 1.72261 train_acc= 0.23019 val_loss= 8.29310 val_acc= 0.21625 time= 12.72909\n",
      "Epoch: 0033 train_loss= 1.74731 train_acc= 0.22842 val_loss= 8.26655 val_acc= 0.19618 time= 13.83836\n",
      "Epoch: 0034 train_loss= 1.73056 train_acc= 0.23493 val_loss= 8.23916 val_acc= 0.16828 time= 12.48277\n",
      "Epoch: 0035 train_loss= 1.71272 train_acc= 0.23432 val_loss= 8.21030 val_acc= 0.14879 time= 12.80850\n",
      "Epoch: 0036 train_loss= 1.70919 train_acc= 0.23522 val_loss= 8.20745 val_acc= 0.13385 time= 12.56529\n",
      "Epoch: 0037 train_loss= 1.73268 train_acc= 0.23332 val_loss= 8.20556 val_acc= 0.11965 time= 12.62418\n",
      "Epoch: 0038 train_loss= 1.69771 train_acc= 0.23587 val_loss= 8.20511 val_acc= 0.11599 time= 12.71016\n",
      "Epoch: 0039 train_loss= 1.69411 train_acc= 0.23881 val_loss= 8.20618 val_acc= 0.11911 time= 12.74324\n",
      "Epoch: 0040 train_loss= 1.70352 train_acc= 0.23706 val_loss= 8.20677 val_acc= 0.13284 time= 13.08418\n",
      "Epoch: 0041 train_loss= 1.69323 train_acc= 0.23475 val_loss= 8.20509 val_acc= 0.15390 time= 13.81161\n",
      "Epoch: 0042 train_loss= 1.70298 train_acc= 0.23565 val_loss= 8.20239 val_acc= 0.18004 time= 11.98923\n"
     ]
    }
   ],
   "source": [
    "# Train model\n",
    "cost_val = []\n",
    "\n",
    "for epoch in range(FLAGS.epochs):\n",
    "\n",
    "    t = time.time()\n",
    "    # Construct feed dictionary\n",
    "    feed_dict = construct_feed_dict(features, support, train_labels_mat, train_mask_mat[:,1], placeholders)\n",
    "    feed_dict.update({placeholders['dropout']: FLAGS.dropout})\n",
    "\n",
    "    # Training step\n",
    "    outs = sess.run([model.opt_op, model.loss, model.accuracy], feed_dict=feed_dict)\n",
    "\n",
    "    # Validation\n",
    "    cost, acc, duration = evaluate(features, support, val_mask_mat, val_mask_mat[:,1], placeholders, sess, model)\n",
    "    cost_val.append(cost)\n",
    "\n",
    "    # Print results\n",
    "    print(\"Epoch:\", '%04d' % (epoch + 1), \"train_loss=\", \"{:.5f}\".format(outs[1]),\n",
    "          \"train_acc=\", \"{:.5f}\".format(outs[2]), \"val_loss=\", \"{:.5f}\".format(cost),\n",
    "          \"val_acc=\", \"{:.5f}\".format(acc), \"time=\", \"{:.5f}\".format(time.time() - t))\n",
    "\n",
    "    if epoch > FLAGS.early_stopping and cost_val[-1] > np.mean(cost_val[-(FLAGS.early_stopping+1):-1]):\n",
    "        print(\"Early stopping...\")\n",
    "        break\n",
    "\n",
    "print(\"Optimization Finished!\")"
   ]
  },
  {
   "cell_type": "code",
   "execution_count": 9,
   "metadata": {},
   "outputs": [
    {
     "name": "stdout",
     "output_type": "stream",
     "text": [
      "Test set results: cost= 1.60940 accuracy= 0.31509 time= 6.00551\n"
     ]
    }
   ],
   "source": [
    "# Testing\n",
    "test_cost, test_acc, test_duration = evaluate(features, support, test_labels_mat, test_mask_mat[:,1], placeholders, sess, model)\n",
    "print(\"Test set results:\", \"cost=\", \"{:.5f}\".format(test_cost),\n",
    "      \"accuracy=\", \"{:.5f}\".format(test_acc), \"time=\", \"{:.5f}\".format(test_duration))"
   ]
  }
 ],
 "metadata": {
  "kernelspec": {
   "display_name": "graph",
   "language": "python",
   "name": "graph"
  },
  "language_info": {
   "codemirror_mode": {
    "name": "ipython",
    "version": 3
   },
   "file_extension": ".py",
   "mimetype": "text/x-python",
   "name": "python",
   "nbconvert_exporter": "python",
   "pygments_lexer": "ipython3",
   "version": "3.6.8"
  }
 },
 "nbformat": 4,
 "nbformat_minor": 2
}
