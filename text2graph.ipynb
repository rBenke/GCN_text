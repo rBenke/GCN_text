{
 "cells": [
  {
   "cell_type": "code",
   "execution_count": 3,
   "metadata": {},
   "outputs": [
    {
     "name": "stdout",
     "output_type": "stream",
     "text": [
      "(2225, 3)\n"
     ]
    }
   ],
   "source": [
    "# read data\n",
    "import pandas as pd\n",
    "from sklearn.model_selection import train_test_split\n",
    "data = pd.read_feather(\"dataFrame.feather\")\n",
    "data[\"category\"] = pd.Categorical(data[\"category\"])\n",
    "print(data.shape)\n",
    "X = data[\"text\"]\n",
    "Y = pd.get_dummies(data[\"category\"])\n",
    "#train_X, test_X, train_Y, test_Y = train_test_split(X, Y, test_size = 0.2)\n"
   ]
  },
  {
   "cell_type": "code",
   "execution_count": 9,
   "metadata": {
    "scrolled": true
   },
   "outputs": [
    {
     "ename": "IndentationError",
     "evalue": "expected an indented block (<ipython-input-9-fa18091de86b>, line 10)",
     "output_type": "error",
     "traceback": [
      "\u001b[0;36m  File \u001b[0;32m\"<ipython-input-9-fa18091de86b>\"\u001b[0;36m, line \u001b[0;32m10\u001b[0m\n\u001b[0;31m    text2graph(X[1])\u001b[0m\n\u001b[0m             ^\u001b[0m\n\u001b[0;31mIndentationError\u001b[0m\u001b[0;31m:\u001b[0m expected an indented block\n"
     ]
    }
   ],
   "source": [
    "from nltk import word_tokenize \n",
    "from nltk.util import ngrams\n",
    "import networkx as nx\n",
    "\n",
    "# create graph from text\n",
    "def text2graph(text):\n",
    "    #-- pre-processing text\n",
    "    # lematization\n",
    "    # name entity recognition\n",
    "    # insertion of correct entity names\n",
    "    # split text into tokens\n",
    "    token = word_tokenize(text)\n",
    "    # extract bigrams\n",
    "    bigram = list(ngrams(token, 2)) \n",
    "    # skip bigrams with words having only one sign\n",
    "    cor_bigrams = [(a,b) for a,b in bigram if len(a)>1 and len(b)>1]\n",
    "    # create graph\n",
    "    df_graph = pd.DataFrame(cor_bigrams)\n",
    "    G = nx.from_pandas_edgelist(df_graph,0,1) \n",
    "    # form a \n",
    "text2graph(X[1])"
   ]
  },
  {
   "cell_type": "code",
   "execution_count": 64,
   "metadata": {},
   "outputs": [
    {
     "name": "stdout",
     "output_type": "stream",
     "text": [
      "  (0, 1)\t1\n",
      "  (0, 6)\t1\n",
      "  (0, 7)\t1\n",
      "  (0, 12)\t1\n",
      "  (0, 15)\t1\n",
      "  (0, 20)\t1\n",
      "  (0, 28)\t1\n",
      "  (0, 38)\t1\n",
      "  (0, 54)\t1\n",
      "  (0, 76)\t1\n",
      "  (0, 83)\t1\n",
      "  (0, 119)\t1\n",
      "  (0, 150)\t1\n",
      "  (0, 166)\t1\n",
      "  (0, 222)\t1\n",
      "  (0, 228)\t1\n",
      "  (1, 0)\t1\n",
      "  (1, 2)\t1\n",
      "  (2, 1)\t1\n",
      "  (2, 3)\t1\n",
      "  (2, 9)\t1\n",
      "  (2, 10)\t1\n",
      "  (2, 18)\t1\n",
      "  (2, 86)\t1\n",
      "  (2, 173)\t1\n",
      "  :\t:\n",
      "  (260, 259)\t1\n",
      "  (261, 18)\t1\n",
      "  (262, 18)\t1\n",
      "  (262, 28)\t1\n",
      "  (263, 5)\t1\n",
      "  (263, 264)\t1\n",
      "  (264, 263)\t1\n",
      "  (264, 265)\t1\n",
      "  (265, 264)\t1\n",
      "  (265, 266)\t1\n",
      "  (266, 265)\t1\n",
      "  (266, 267)\t1\n",
      "  (267, 266)\t1\n",
      "  (268, 269)\t1\n",
      "  (269, 166)\t1\n",
      "  (269, 268)\t1\n",
      "  (270, 271)\t1\n",
      "  (271, 270)\t1\n",
      "  (272, 18)\t1\n",
      "  (273, 225)\t1\n",
      "  (274, 40)\t1\n",
      "  (275, 18)\t1\n",
      "  (275, 276)\t1\n",
      "  (276, 40)\t1\n",
      "  (276, 275)\t1\n"
     ]
    }
   ],
   "source": [
    "import networkx as nx\n",
    "import pandas as pd\n",
    "import matplotlib.pyplot as plt\n",
    "\n",
    "text = X[1]\n",
    "token = word_tokenize(text)\n",
    "bigram = list(ngrams(token, 2)) \n",
    "cor_bigrams = [(a,b) for a,b in bigram if len(a)>1 and len(b)>1]\n",
    "df_graph = pd.DataFrame(cor_bigrams)\n",
    "#print(df_graph)\n",
    "G = nx.from_pandas_edgelist(df_graph,0,1)\n",
    "A = nx.adjacency_matrix(G)\n",
    "print(A)"
   ]
  }
 ],
 "metadata": {
  "kernelspec": {
   "display_name": "graph",
   "language": "python",
   "name": "graph"
  },
  "language_info": {
   "codemirror_mode": {
    "name": "ipython",
    "version": 3
   },
   "file_extension": ".py",
   "mimetype": "text/x-python",
   "name": "python",
   "nbconvert_exporter": "python",
   "pygments_lexer": "ipython3",
   "version": "3.6.8"
  }
 },
 "nbformat": 4,
 "nbformat_minor": 2
}
