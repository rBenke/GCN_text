{
 "cells": [
  {
   "cell_type": "code",
   "execution_count": 1,
   "metadata": {},
   "outputs": [
    {
     "name": "stderr",
     "output_type": "stream",
     "text": [
      "DGL backend not selected or invalid.  Assuming PyTorch for now.\n",
      "Using backend: pytorch\n"
     ]
    },
    {
     "name": "stdout",
     "output_type": "stream",
     "text": [
      "Setting the default backend to \"pytorch\". You can change it in the ~/.dgl/config.json file or export the DGLBACKEND environment variable.  Valid options are: pytorch, mxnet, tensorflow (all lowercase)\n"
     ]
    }
   ],
   "source": [
    "import dgl\n",
    "import dgl.function as fn\n",
    "import torch as th\n",
    "import torch.nn as nn\n",
    "import torch.nn.functional as F\n",
    "from dgl import DGLGraph\n",
    "\n",
    "gcn_msg = fn.copy_src(src='h', out='m')\n",
    "gcn_reduce = fn.sum(msg='m', out='h')"
   ]
  },
  {
   "cell_type": "code",
   "execution_count": 2,
   "metadata": {},
   "outputs": [],
   "source": [
    "class GCNLayer(nn.Module):\n",
    "    def __init__(self, in_feats, out_feats):\n",
    "        super(GCNLayer, self).__init__()\n",
    "        self.linear = nn.Linear(in_feats, out_feats)\n",
    "\n",
    "    def forward(self, g, feature):\n",
    "        # Creating a local scope so that all the stored ndata and edata\n",
    "        # (such as the `'h'` ndata below) are automatically popped out\n",
    "        # when the scope exits.\n",
    "        with g.local_scope():\n",
    "            g.ndata['h'] = feature\n",
    "            g.update_all(gcn_msg, gcn_reduce)\n",
    "            h = g.ndata['h']\n",
    "            return self.linear(h)"
   ]
  },
  {
   "cell_type": "code",
   "execution_count": 3,
   "metadata": {},
   "outputs": [
    {
     "name": "stdout",
     "output_type": "stream",
     "text": [
      "Net(\n",
      "  (layer1): GCNLayer(\n",
      "    (linear): Linear(in_features=1433, out_features=16, bias=True)\n",
      "  )\n",
      "  (layer2): GCNLayer(\n",
      "    (linear): Linear(in_features=16, out_features=7, bias=True)\n",
      "  )\n",
      ")\n"
     ]
    }
   ],
   "source": [
    "class Net(nn.Module):\n",
    "    def __init__(self):\n",
    "        super(Net, self).__init__()\n",
    "        self.layer1 = GCNLayer(1433, 16)\n",
    "        self.layer2 = GCNLayer(16, 7)\n",
    "\n",
    "    def forward(self, g, features):\n",
    "        x = F.relu(self.layer1(g, features))\n",
    "        x = self.layer2(g, x)\n",
    "        return x\n",
    "net = Net()\n",
    "print(net)"
   ]
  },
  {
   "cell_type": "code",
   "execution_count": 5,
   "metadata": {},
   "outputs": [],
   "source": [
    "from dgl.data import citation_graph as citegrh\n",
    "import networkx as nx\n",
    "def load_cora_data():\n",
    "    data = citegrh.load_cora()\n",
    "    features = th.FloatTensor(data.features)\n",
    "    labels = th.LongTensor(data.labels)\n",
    "    train_mask = th.BoolTensor(data.train_mask)\n",
    "    test_mask = th.BoolTensor(data.test_mask)\n",
    "    g = DGLGraph(data.graph)\n",
    "    return g, features, labels, train_mask, test_mask\n"
   ]
  },
  {
   "cell_type": "code",
   "execution_count": 6,
   "metadata": {},
   "outputs": [],
   "source": [
    "def evaluate(model, g, features, labels, mask):\n",
    "    model.eval()\n",
    "    with th.no_grad():\n",
    "        logits = model(g, features)\n",
    "        logits = logits[mask]\n",
    "        labels = labels[mask]\n",
    "        _, indices = th.max(logits, dim=1)\n",
    "        correct = th.sum(indices == labels)\n",
    "        return correct.item() * 1.0 / len(labels)"
   ]
  },
  {
   "cell_type": "code",
   "execution_count": 8,
   "metadata": {},
   "outputs": [
    {
     "name": "stdout",
     "output_type": "stream",
     "text": [
      "Loading from cache failed, re-processing.\n",
      "Finished data loading and preprocessing.\n",
      "  NumNodes: 2708\n",
      "  NumEdges: 10556\n",
      "  NumFeats: 1433\n",
      "  NumClasses: 7\n",
      "  NumTrainingSamples: 140\n",
      "  NumValidationSamples: 500\n",
      "  NumTestSamples: 1000\n",
      "Done saving data into cached files.\n",
      "Epoch 00000 | Loss 1.5313 | Test Acc 0.4960 | Time(s) nan\n",
      "Epoch 00001 | Loss 1.3935 | Test Acc 0.6100 | Time(s) nan\n",
      "Epoch 00002 | Loss 1.2663 | Test Acc 0.6540 | Time(s) nan\n",
      "Epoch 00003 | Loss 1.1493 | Test Acc 0.6750 | Time(s) 0.0105\n",
      "Epoch 00004 | Loss 1.0443 | Test Acc 0.6980 | Time(s) 0.0104\n",
      "Epoch 00005 | Loss 0.9481 | Test Acc 0.7090 | Time(s) 0.0104\n",
      "Epoch 00006 | Loss 0.8594 | Test Acc 0.7370 | Time(s) 0.0104\n"
     ]
    },
    {
     "name": "stderr",
     "output_type": "stream",
     "text": [
      "/home/robert/venv/lib/python3.8/site-packages/dgl/data/utils.py:285: UserWarning: Property dataset.feat will be deprecated, please use g.ndata['feat'] instead.\n",
      "  warnings.warn('Property {} will be deprecated, please use {} instead.'.format(old, new))\n",
      "/home/robert/venv/lib/python3.8/site-packages/dgl/data/utils.py:285: UserWarning: Property dataset.label will be deprecated, please use g.ndata['label'] instead.\n",
      "  warnings.warn('Property {} will be deprecated, please use {} instead.'.format(old, new))\n",
      "/home/robert/venv/lib/python3.8/site-packages/dgl/data/utils.py:285: UserWarning: Property dataset.train_mask will be deprecated, please use g.ndata['train_mask'] instead.\n",
      "  warnings.warn('Property {} will be deprecated, please use {} instead.'.format(old, new))\n",
      "/home/robert/venv/lib/python3.8/site-packages/dgl/data/utils.py:285: UserWarning: Property dataset.test_mask will be deprecated, please use g.ndata['test_mask'] instead.\n",
      "  warnings.warn('Property {} will be deprecated, please use {} instead.'.format(old, new))\n",
      "/home/robert/venv/lib/python3.8/site-packages/dgl/data/utils.py:285: UserWarning: Property dataset.graph will be deprecated, please use dataset.g instead.\n",
      "  warnings.warn('Property {} will be deprecated, please use {} instead.'.format(old, new))\n",
      "/home/robert/venv/lib/python3.8/site-packages/dgl/base.py:45: DGLWarning: Recommend creating graphs by `dgl.graph(data)` instead of `dgl.DGLGraph(data)`.\n",
      "  return warnings.warn(message, category=category, stacklevel=1)\n",
      "/home/robert/venv/lib/python3.8/site-packages/numpy/core/fromnumeric.py:3372: RuntimeWarning: Mean of empty slice.\n",
      "  return _methods._mean(a, axis=axis, dtype=dtype,\n",
      "/home/robert/venv/lib/python3.8/site-packages/numpy/core/_methods.py:170: RuntimeWarning: invalid value encountered in double_scalars\n",
      "  ret = ret.dtype.type(ret / rcount)\n"
     ]
    },
    {
     "name": "stdout",
     "output_type": "stream",
     "text": [
      "Epoch 00007 | Loss 0.7771 | Test Acc 0.7510 | Time(s) 0.0106\n",
      "Epoch 00008 | Loss 0.7016 | Test Acc 0.7510 | Time(s) 0.0108\n",
      "Epoch 00009 | Loss 0.6330 | Test Acc 0.7540 | Time(s) 0.0111\n",
      "Epoch 00010 | Loss 0.5706 | Test Acc 0.7540 | Time(s) 0.0110\n",
      "Epoch 00011 | Loss 0.5136 | Test Acc 0.7540 | Time(s) 0.0109\n",
      "Epoch 00012 | Loss 0.4622 | Test Acc 0.7540 | Time(s) 0.0109\n",
      "Epoch 00013 | Loss 0.4158 | Test Acc 0.7510 | Time(s) 0.0109\n",
      "Epoch 00014 | Loss 0.3742 | Test Acc 0.7530 | Time(s) 0.0109\n",
      "Epoch 00015 | Loss 0.3369 | Test Acc 0.7540 | Time(s) 0.0108\n",
      "Epoch 00016 | Loss 0.3037 | Test Acc 0.7550 | Time(s) 0.0108\n",
      "Epoch 00017 | Loss 0.2740 | Test Acc 0.7590 | Time(s) 0.0109\n",
      "Epoch 00018 | Loss 0.2474 | Test Acc 0.7570 | Time(s) 0.0111\n",
      "Epoch 00019 | Loss 0.2236 | Test Acc 0.7560 | Time(s) 0.0111\n",
      "Epoch 00020 | Loss 0.2020 | Test Acc 0.7550 | Time(s) 0.0110\n",
      "Epoch 00021 | Loss 0.1826 | Test Acc 0.7540 | Time(s) 0.0110\n",
      "Epoch 00022 | Loss 0.1651 | Test Acc 0.7550 | Time(s) 0.0110\n",
      "Epoch 00023 | Loss 0.1493 | Test Acc 0.7520 | Time(s) 0.0109\n",
      "Epoch 00024 | Loss 0.1351 | Test Acc 0.7550 | Time(s) 0.0109\n",
      "Epoch 00025 | Loss 0.1222 | Test Acc 0.7530 | Time(s) 0.0109\n",
      "Epoch 00026 | Loss 0.1107 | Test Acc 0.7520 | Time(s) 0.0109\n",
      "Epoch 00027 | Loss 0.1002 | Test Acc 0.7500 | Time(s) 0.0109\n",
      "Epoch 00028 | Loss 0.0908 | Test Acc 0.7500 | Time(s) 0.0109\n",
      "Epoch 00029 | Loss 0.0823 | Test Acc 0.7500 | Time(s) 0.0109\n",
      "Epoch 00030 | Loss 0.0747 | Test Acc 0.7510 | Time(s) 0.0109\n",
      "Epoch 00031 | Loss 0.0678 | Test Acc 0.7500 | Time(s) 0.0109\n",
      "Epoch 00032 | Loss 0.0616 | Test Acc 0.7490 | Time(s) 0.0108\n",
      "Epoch 00033 | Loss 0.0561 | Test Acc 0.7480 | Time(s) 0.0108\n",
      "Epoch 00034 | Loss 0.0511 | Test Acc 0.7480 | Time(s) 0.0109\n",
      "Epoch 00035 | Loss 0.0467 | Test Acc 0.7460 | Time(s) 0.0109\n",
      "Epoch 00036 | Loss 0.0426 | Test Acc 0.7470 | Time(s) 0.0109\n",
      "Epoch 00037 | Loss 0.0390 | Test Acc 0.7480 | Time(s) 0.0109\n",
      "Epoch 00038 | Loss 0.0358 | Test Acc 0.7470 | Time(s) 0.0110\n",
      "Epoch 00039 | Loss 0.0329 | Test Acc 0.7460 | Time(s) 0.0110\n",
      "Epoch 00040 | Loss 0.0303 | Test Acc 0.7470 | Time(s) 0.0110\n",
      "Epoch 00041 | Loss 0.0280 | Test Acc 0.7440 | Time(s) 0.0110\n",
      "Epoch 00042 | Loss 0.0259 | Test Acc 0.7420 | Time(s) 0.0110\n",
      "Epoch 00043 | Loss 0.0240 | Test Acc 0.7400 | Time(s) 0.0110\n",
      "Epoch 00044 | Loss 0.0223 | Test Acc 0.7410 | Time(s) 0.0110\n",
      "Epoch 00045 | Loss 0.0207 | Test Acc 0.7430 | Time(s) 0.0110\n",
      "Epoch 00046 | Loss 0.0193 | Test Acc 0.7420 | Time(s) 0.0109\n",
      "Epoch 00047 | Loss 0.0181 | Test Acc 0.7390 | Time(s) 0.0109\n",
      "Epoch 00048 | Loss 0.0169 | Test Acc 0.7380 | Time(s) 0.0109\n",
      "Epoch 00049 | Loss 0.0159 | Test Acc 0.7380 | Time(s) 0.0109\n"
     ]
    }
   ],
   "source": [
    "import numpy as np\n",
    "import time\n",
    "g, features, labels, train_mask, test_mask = load_cora_data()\n",
    "# Add edges between each node and itself to preserve old node representations\n",
    "g.add_edges(g.nodes(), g.nodes())\n",
    "optimizer = th.optim.Adam(net.parameters(), lr=1e-2)\n",
    "dur = []\n",
    "for epoch in range(50):\n",
    "    if epoch >=3:\n",
    "        t0 = time.time()\n",
    "\n",
    "    net.train()\n",
    "    logits = net(g, features)\n",
    "    logp = F.log_softmax(logits, 1)\n",
    "    loss = F.nll_loss(logp[train_mask], labels[train_mask])\n",
    "\n",
    "    optimizer.zero_grad()\n",
    "    loss.backward()\n",
    "    optimizer.step()\n",
    "\n",
    "    if epoch >=3:\n",
    "        dur.append(time.time() - t0)\n",
    "\n",
    "    acc = evaluate(net, g, features, labels, test_mask)\n",
    "    print(\"Epoch {:05d} | Loss {:.4f} | Test Acc {:.4f} | Time(s) {:.4f}\".format(\n",
    "            epoch, loss.item(), acc, np.mean(dur)))"
   ]
  },
  {
   "cell_type": "code",
   "execution_count": null,
   "metadata": {},
   "outputs": [],
   "source": []
  },
  {
   "cell_type": "code",
   "execution_count": null,
   "metadata": {},
   "outputs": [],
   "source": []
  }
 ],
 "metadata": {
  "kernelspec": {
   "display_name": "venv",
   "language": "python",
   "name": "venv"
  },
  "language_info": {
   "codemirror_mode": {
    "name": "ipython",
    "version": 3
   },
   "file_extension": ".py",
   "mimetype": "text/x-python",
   "name": "python",
   "nbconvert_exporter": "python",
   "pygments_lexer": "ipython3",
   "version": "3.8.5"
  }
 },
 "nbformat": 4,
 "nbformat_minor": 4
}
