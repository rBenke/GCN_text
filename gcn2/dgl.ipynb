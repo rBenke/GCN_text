{
 "cells": [
  {
   "cell_type": "code",
   "execution_count": 1,
   "metadata": {},
   "outputs": [
    {
     "name": "stderr",
     "output_type": "stream",
     "text": [
      "Using backend: pytorch\n"
     ]
    }
   ],
   "source": [
    "import dgl\n",
    "import dgl.function as fn\n",
    "import torch as th\n",
    "import torch.nn as nn\n",
    "import torch.nn.functional as F\n",
    "from dgl import DGLGraph\n",
    "\n",
    "gcn_msg = fn.copy_src(src='h', out='m')\n",
    "gcn_reduce = fn.sum(msg='m', out='h')"
   ]
  },
  {
   "cell_type": "code",
   "execution_count": 2,
   "metadata": {},
   "outputs": [],
   "source": [
    "class GCNLayer(nn.Module):\n",
    "    def __init__(self, in_feats, out_feats):\n",
    "        super(GCNLayer, self).__init__()\n",
    "        self.linear = nn.Linear(in_feats, out_feats)\n",
    "\n",
    "    def forward(self, g, feature):\n",
    "        # Creating a local scope so that all the stored ndata and edata\n",
    "        # (such as the `'h'` ndata below) are automatically popped out\n",
    "        # when the scope exits.\n",
    "        with g.local_scope():\n",
    "            g.ndata['h'] = feature\n",
    "            g.update_all(gcn_msg, gcn_reduce)\n",
    "            h = g.ndata['h']\n",
    "            return self.linear(h)"
   ]
  },
  {
   "cell_type": "code",
   "execution_count": 3,
   "metadata": {},
   "outputs": [
    {
     "name": "stdout",
     "output_type": "stream",
     "text": [
      "Net(\n",
      "  (layer1): GCNLayer(\n",
      "    (linear): Linear(in_features=1433, out_features=16, bias=True)\n",
      "  )\n",
      "  (layer2): GCNLayer(\n",
      "    (linear): Linear(in_features=16, out_features=7, bias=True)\n",
      "  )\n",
      ")\n"
     ]
    }
   ],
   "source": [
    "class Net(nn.Module):\n",
    "    def __init__(self):\n",
    "        super(Net, self).__init__()\n",
    "        self.layer1 = GCNLayer(1433, 16)\n",
    "        self.layer2 = GCNLayer(16, 7)\n",
    "\n",
    "    def forward(self, g, features):\n",
    "        x = F.relu(self.layer1(g, features))\n",
    "        x = self.layer2(g, x)\n",
    "        return x\n",
    "net = Net()\n",
    "print(net)"
   ]
  },
  {
   "cell_type": "code",
   "execution_count": 4,
   "metadata": {},
   "outputs": [],
   "source": [
    "from dgl.data import citation_graph as citegrh\n",
    "import networkx as nx\n",
    "def load_cora_data():\n",
    "    data = citegrh.load_cora()\n",
    "    features = th.FloatTensor(data.features)\n",
    "    labels = th.LongTensor(data.labels)\n",
    "    train_mask = th.BoolTensor(data.train_mask)\n",
    "    test_mask = th.BoolTensor(data.test_mask)\n",
    "    g = DGLGraph(data.graph)\n",
    "    return g, features, labels, train_mask, test_mask\n"
   ]
  },
  {
   "cell_type": "code",
   "execution_count": 5,
   "metadata": {},
   "outputs": [],
   "source": [
    "def evaluate(model, g, features, labels, mask):\n",
    "    model.eval()\n",
    "    with th.no_grad():\n",
    "        logits = model(g, features)\n",
    "        logits = logits[mask]\n",
    "        labels = labels[mask]\n",
    "        _, indices = th.max(logits, dim=1)\n",
    "        correct = th.sum(indices == labels)\n",
    "        return correct.item() * 1.0 / len(labels)"
   ]
  },
  {
   "cell_type": "code",
   "execution_count": 6,
   "metadata": {},
   "outputs": [
    {
     "name": "stdout",
     "output_type": "stream",
     "text": [
      "Loading from cache failed, re-processing.\n",
      "Finished data loading and preprocessing.\n",
      "  NumNodes: 2708\n",
      "  NumEdges: 10556\n",
      "  NumFeats: 1433\n",
      "  NumClasses: 7\n",
      "  NumTrainingSamples: 140\n",
      "  NumValidationSamples: 500\n",
      "  NumTestSamples: 1000\n",
      "Done saving data into cached files.\n",
      "Epoch 00000 | Loss 1.9643 | Test Acc 0.1740 | Time(s) nan\n",
      "Epoch 00001 | Loss 1.8283 | Test Acc 0.2670 | Time(s) nan\n",
      "Epoch 00002 | Loss 1.7075 | Test Acc 0.3570 | Time(s) nan\n",
      "Epoch 00003 | Loss 1.5828 | Test Acc 0.5220 | Time(s) 0.0085\n"
     ]
    },
    {
     "name": "stderr",
     "output_type": "stream",
     "text": [
      "/home/robert/venv/lib/python3.8/site-packages/dgl/data/utils.py:285: UserWarning: Property dataset.feat will be deprecated, please use g.ndata['feat'] instead.\n",
      "  warnings.warn('Property {} will be deprecated, please use {} instead.'.format(old, new))\n",
      "/home/robert/venv/lib/python3.8/site-packages/dgl/data/utils.py:285: UserWarning: Property dataset.label will be deprecated, please use g.ndata['label'] instead.\n",
      "  warnings.warn('Property {} will be deprecated, please use {} instead.'.format(old, new))\n",
      "/home/robert/venv/lib/python3.8/site-packages/dgl/data/utils.py:285: UserWarning: Property dataset.train_mask will be deprecated, please use g.ndata['train_mask'] instead.\n",
      "  warnings.warn('Property {} will be deprecated, please use {} instead.'.format(old, new))\n",
      "/home/robert/venv/lib/python3.8/site-packages/dgl/data/utils.py:285: UserWarning: Property dataset.test_mask will be deprecated, please use g.ndata['test_mask'] instead.\n",
      "  warnings.warn('Property {} will be deprecated, please use {} instead.'.format(old, new))\n",
      "/home/robert/venv/lib/python3.8/site-packages/dgl/data/utils.py:285: UserWarning: Property dataset.graph will be deprecated, please use dataset.g instead.\n",
      "  warnings.warn('Property {} will be deprecated, please use {} instead.'.format(old, new))\n",
      "/home/robert/venv/lib/python3.8/site-packages/dgl/base.py:45: DGLWarning: Recommend creating graphs by `dgl.graph(data)` instead of `dgl.DGLGraph(data)`.\n",
      "  return warnings.warn(message, category=category, stacklevel=1)\n",
      "/home/robert/venv/lib/python3.8/site-packages/numpy/core/fromnumeric.py:3372: RuntimeWarning: Mean of empty slice.\n",
      "  return _methods._mean(a, axis=axis, dtype=dtype,\n",
      "/home/robert/venv/lib/python3.8/site-packages/numpy/core/_methods.py:170: RuntimeWarning: invalid value encountered in double_scalars\n",
      "  ret = ret.dtype.type(ret / rcount)\n"
     ]
    },
    {
     "name": "stdout",
     "output_type": "stream",
     "text": [
      "Epoch 00004 | Loss 1.4724 | Test Acc 0.6160 | Time(s) 0.0086\n",
      "Epoch 00005 | Loss 1.3653 | Test Acc 0.6850 | Time(s) 0.0098\n",
      "Epoch 00006 | Loss 1.2572 | Test Acc 0.7010 | Time(s) 0.0094\n",
      "Epoch 00007 | Loss 1.1554 | Test Acc 0.7140 | Time(s) 0.0093\n",
      "Epoch 00008 | Loss 1.0582 | Test Acc 0.7210 | Time(s) 0.0090\n",
      "Epoch 00009 | Loss 0.9645 | Test Acc 0.7180 | Time(s) 0.0089\n",
      "Epoch 00010 | Loss 0.8787 | Test Acc 0.7240 | Time(s) 0.0088\n",
      "Epoch 00011 | Loss 0.8018 | Test Acc 0.7300 | Time(s) 0.0087\n",
      "Epoch 00012 | Loss 0.7319 | Test Acc 0.7300 | Time(s) 0.0086\n",
      "Epoch 00013 | Loss 0.6679 | Test Acc 0.7380 | Time(s) 0.0086\n",
      "Epoch 00014 | Loss 0.6090 | Test Acc 0.7470 | Time(s) 0.0085\n",
      "Epoch 00015 | Loss 0.5543 | Test Acc 0.7550 | Time(s) 0.0085\n",
      "Epoch 00016 | Loss 0.5039 | Test Acc 0.7630 | Time(s) 0.0085\n",
      "Epoch 00017 | Loss 0.4582 | Test Acc 0.7700 | Time(s) 0.0085\n",
      "Epoch 00018 | Loss 0.4165 | Test Acc 0.7720 | Time(s) 0.0086\n",
      "Epoch 00019 | Loss 0.3783 | Test Acc 0.7740 | Time(s) 0.0086\n",
      "Epoch 00020 | Loss 0.3434 | Test Acc 0.7770 | Time(s) 0.0085\n",
      "Epoch 00021 | Loss 0.3114 | Test Acc 0.7690 | Time(s) 0.0085\n",
      "Epoch 00022 | Loss 0.2825 | Test Acc 0.7610 | Time(s) 0.0085\n",
      "Epoch 00023 | Loss 0.2564 | Test Acc 0.7550 | Time(s) 0.0085\n",
      "Epoch 00024 | Loss 0.2331 | Test Acc 0.7550 | Time(s) 0.0084\n",
      "Epoch 00025 | Loss 0.2121 | Test Acc 0.7550 | Time(s) 0.0084\n",
      "Epoch 00026 | Loss 0.1932 | Test Acc 0.7540 | Time(s) 0.0084\n",
      "Epoch 00027 | Loss 0.1760 | Test Acc 0.7580 | Time(s) 0.0084\n",
      "Epoch 00028 | Loss 0.1603 | Test Acc 0.7590 | Time(s) 0.0084\n",
      "Epoch 00029 | Loss 0.1459 | Test Acc 0.7580 | Time(s) 0.0084\n",
      "Epoch 00030 | Loss 0.1329 | Test Acc 0.7590 | Time(s) 0.0084\n",
      "Epoch 00031 | Loss 0.1210 | Test Acc 0.7590 | Time(s) 0.0084\n",
      "Epoch 00032 | Loss 0.1102 | Test Acc 0.7590 | Time(s) 0.0084\n",
      "Epoch 00033 | Loss 0.1005 | Test Acc 0.7590 | Time(s) 0.0084\n",
      "Epoch 00034 | Loss 0.0916 | Test Acc 0.7600 | Time(s) 0.0084\n",
      "Epoch 00035 | Loss 0.0836 | Test Acc 0.7620 | Time(s) 0.0084\n",
      "Epoch 00036 | Loss 0.0764 | Test Acc 0.7610 | Time(s) 0.0084\n",
      "Epoch 00037 | Loss 0.0699 | Test Acc 0.7590 | Time(s) 0.0083\n",
      "Epoch 00038 | Loss 0.0641 | Test Acc 0.7590 | Time(s) 0.0083\n",
      "Epoch 00039 | Loss 0.0588 | Test Acc 0.7600 | Time(s) 0.0083\n",
      "Epoch 00040 | Loss 0.0540 | Test Acc 0.7610 | Time(s) 0.0083\n",
      "Epoch 00041 | Loss 0.0496 | Test Acc 0.7620 | Time(s) 0.0083\n",
      "Epoch 00042 | Loss 0.0457 | Test Acc 0.7600 | Time(s) 0.0083\n",
      "Epoch 00043 | Loss 0.0421 | Test Acc 0.7580 | Time(s) 0.0083\n",
      "Epoch 00044 | Loss 0.0389 | Test Acc 0.7580 | Time(s) 0.0083\n",
      "Epoch 00045 | Loss 0.0360 | Test Acc 0.7560 | Time(s) 0.0084\n",
      "Epoch 00046 | Loss 0.0333 | Test Acc 0.7530 | Time(s) 0.0084\n",
      "Epoch 00047 | Loss 0.0309 | Test Acc 0.7520 | Time(s) 0.0084\n",
      "Epoch 00048 | Loss 0.0287 | Test Acc 0.7530 | Time(s) 0.0084\n",
      "Epoch 00049 | Loss 0.0267 | Test Acc 0.7520 | Time(s) 0.0084\n"
     ]
    }
   ],
   "source": [
    "import numpy as np\n",
    "import time\n",
    "g, features, labels, train_mask, test_mask = load_cora_data()\n",
    "# Add edges between each node and itself to preserve old node representations\n",
    "g.add_edges(g.nodes(), g.nodes())\n",
    "optimizer = th.optim.Adam(net.parameters(), lr=1e-2)\n",
    "dur = []\n",
    "for epoch in range(50):\n",
    "    if epoch >=3:\n",
    "        t0 = time.time()\n",
    "\n",
    "    net.train()\n",
    "    logits = net(g, features)\n",
    "    logp = F.log_softmax(logits, 1)\n",
    "    loss = F.nll_loss(logp[train_mask], labels[train_mask])\n",
    "\n",
    "    optimizer.zero_grad()\n",
    "    loss.backward()\n",
    "    optimizer.step()\n",
    "\n",
    "    if epoch >=3:\n",
    "        dur.append(time.time() - t0)\n",
    "\n",
    "    acc = evaluate(net, g, features, labels, test_mask)\n",
    "    print(\"Epoch {:05d} | Loss {:.4f} | Test Acc {:.4f} | Time(s) {:.4f}\".format(\n",
    "            epoch, loss.item(), acc, np.mean(dur)))"
   ]
  },
  {
   "cell_type": "code",
   "execution_count": null,
   "metadata": {},
   "outputs": [],
   "source": []
  },
  {
   "cell_type": "code",
   "execution_count": null,
   "metadata": {},
   "outputs": [],
   "source": []
  }
 ],
 "metadata": {
  "kernelspec": {
   "display_name": "venv",
   "language": "python",
   "name": "venv"
  },
  "language_info": {
   "codemirror_mode": {
    "name": "ipython",
    "version": 3
   },
   "file_extension": ".py",
   "mimetype": "text/x-python",
   "name": "python",
   "nbconvert_exporter": "python",
   "pygments_lexer": "ipython3",
   "version": "3.8.5"
  }
 },
 "nbformat": 4,
 "nbformat_minor": 4
}
